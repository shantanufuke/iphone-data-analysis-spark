{
 "cells": [
  {
   "cell_type": "code",
   "execution_count": 100,
   "id": "a386f6e0",
   "metadata": {},
   "outputs": [],
   "source": [
    "from pyspark.sql.functions import col, max, min, split, concat_ws, lit"
   ]
  },
  {
   "cell_type": "code",
   "execution_count": 101,
   "id": "ba4abd2d-00ab-4384-b444-6a93928f8c22",
   "metadata": {},
   "outputs": [],
   "source": [
    "df = spark.read \\\n",
    "    .format(\"csv\") \\\n",
    "    .option(\"inferSchema\", \"true\") \\\n",
    "    .option(\"header\", \"true\") \\\n",
    "    .load(\"file:///Users/shantanufuke/Courses/Apache-Spark/data/apple_data/apple_products.csv\")"
   ]
  },
  {
   "cell_type": "code",
   "execution_count": 102,
   "id": "1eb1079c-7a72-4597-ae71-270cdde1872c",
   "metadata": {},
   "outputs": [
    {
     "name": "stdout",
     "output_type": "stream",
     "text": [
      "+--------------------+--------------------+-----+----------+-----+-------------------+-----------------+-----------------+----------------+-----------+----+\n",
      "|        Product Name|         Product URL|Brand|Sale Price|  Mrp|Discount Percentage|Number Of Ratings|Number Of Reviews|             Upc|Star Rating| Ram|\n",
      "+--------------------+--------------------+-----+----------+-----+-------------------+-----------------+-----------------+----------------+-----------+----+\n",
      "|APPLE iPhone 8 Pl...|https://www.flipk...|Apple|     49900|49900|                  0|             3431|              356|MOBEXRGV7EHHTGUH|        4.6|2 GB|\n",
      "|APPLE iPhone 8 Pl...|https://www.flipk...|Apple|     84900|84900|                  0|             3431|              356|MOBEXRGVAC6TJT4F|        4.6|2 GB|\n",
      "|APPLE iPhone 8 Pl...|https://www.flipk...|Apple|     84900|84900|                  0|             3431|              356|MOBEXRGVGETABXWZ|        4.6|2 GB|\n",
      "|APPLE iPhone 8 (S...|https://www.flipk...|Apple|     77000|77000|                  0|            11202|              794|MOBEXRGVMZWUHCBA|        4.5|2 GB|\n",
      "|APPLE iPhone 8 (G...|https://www.flipk...|Apple|     77000|77000|                  0|            11202|              794|MOBEXRGVPK7PFEJZ|        4.5|2 GB|\n",
      "+--------------------+--------------------+-----+----------+-----+-------------------+-----------------+-----------------+----------------+-----------+----+\n",
      "only showing top 5 rows\n",
      "\n"
     ]
    }
   ],
   "source": [
    "df.show(5)"
   ]
  },
  {
   "cell_type": "code",
   "execution_count": 103,
   "id": "b36a72a1",
   "metadata": {},
   "outputs": [
    {
     "name": "stdout",
     "output_type": "stream",
     "text": [
      "root\n",
      " |-- Product Name: string (nullable = true)\n",
      " |-- Product URL: string (nullable = true)\n",
      " |-- Brand: string (nullable = true)\n",
      " |-- Sale Price: integer (nullable = true)\n",
      " |-- Mrp: integer (nullable = true)\n",
      " |-- Discount Percentage: integer (nullable = true)\n",
      " |-- Number Of Ratings: integer (nullable = true)\n",
      " |-- Number Of Reviews: integer (nullable = true)\n",
      " |-- Upc: string (nullable = true)\n",
      " |-- Star Rating: double (nullable = true)\n",
      " |-- Ram: string (nullable = true)\n",
      "\n"
     ]
    }
   ],
   "source": [
    "df.printSchema()"
   ]
  },
  {
   "cell_type": "code",
   "execution_count": 104,
   "id": "b071f1b5",
   "metadata": {},
   "outputs": [
    {
     "name": "stdout",
     "output_type": "stream",
     "text": [
      "+-----+\n",
      "|  Mrp|\n",
      "+-----+\n",
      "|49900|\n",
      "|84900|\n",
      "|84900|\n",
      "|77000|\n",
      "|77000|\n",
      "+-----+\n",
      "only showing top 5 rows\n",
      "\n"
     ]
    }
   ],
   "source": [
    "df.select(col(\"Mrp\")).show(5)"
   ]
  },
  {
   "cell_type": "code",
   "execution_count": 105,
   "id": "96ec8d10",
   "metadata": {},
   "outputs": [
    {
     "name": "stdout",
     "output_type": "stream",
     "text": [
      "+--------+\n",
      "|max(Mrp)|\n",
      "+--------+\n",
      "|  149900|\n",
      "+--------+\n",
      "\n"
     ]
    }
   ],
   "source": [
    "df.select(max(col(\"Mrp\"))).show(5)"
   ]
  },
  {
   "cell_type": "code",
   "execution_count": 106,
   "id": "ab13bb5d",
   "metadata": {},
   "outputs": [
    {
     "name": "stdout",
     "output_type": "stream",
     "text": [
      "+--------+\n",
      "|min(Mrp)|\n",
      "+--------+\n",
      "|   39900|\n",
      "+--------+\n",
      "\n"
     ]
    }
   ],
   "source": [
    "df.select(min(col(\"Mrp\"))).show(5)"
   ]
  },
  {
   "cell_type": "code",
   "execution_count": 107,
   "id": "e39c4c3f",
   "metadata": {},
   "outputs": [
    {
     "name": "stdout",
     "output_type": "stream",
     "text": [
      "+--------------------+--------------------+-----+----------+------+-------------------+-----------------+-----------------+----------------+-----------+----+\n",
      "|        Product Name|         Product URL|Brand|Sale Price|   Mrp|Discount Percentage|Number Of Ratings|Number Of Reviews|             Upc|Star Rating| Ram|\n",
      "+--------------------+--------------------+-----+----------+------+-------------------+-----------------+-----------------+----------------+-----------+----+\n",
      "|APPLE iPhone 12 P...|https://www.flipk...|Apple|    140900|149900|                  6|              542|               42|MOBFWBYZ5UY6ZBVA|        4.5|4 GB|\n",
      "|APPLE iPhone 12 P...|https://www.flipk...|Apple|    140900|149900|                  6|              545|               42|MOBFWBYZTHSXKMGW|        4.5|4 GB|\n",
      "+--------------------+--------------------+-----+----------+------+-------------------+-----------------+-----------------+----------------+-----------+----+\n",
      "\n"
     ]
    }
   ],
   "source": [
    "df.where(\"Mrp = 149900\").show()"
   ]
  },
  {
   "cell_type": "code",
   "execution_count": 108,
   "id": "901b472e",
   "metadata": {},
   "outputs": [
    {
     "name": "stdout",
     "output_type": "stream",
     "text": [
      "+--------------------+--------------------+-----+----------+-----+-------------------+-----------------+-----------------+----------------+-----------+----+\n",
      "|        Product Name|         Product URL|Brand|Sale Price|  Mrp|Discount Percentage|Number Of Ratings|Number Of Reviews|             Upc|Star Rating| Ram|\n",
      "+--------------------+--------------------+-----+----------+-----+-------------------+-----------------+-----------------+----------------+-----------+----+\n",
      "|APPLE iPhone SE (...|https://www.flipk...|Apple|     29999|39900|                 24|            95807|             8154|MOBFWQ6BGWDVGF3E|        4.5|2 GB|\n",
      "|APPLE iPhone SE (...|https://www.flipk...|Apple|     29999|39900|                 24|            95909|             8161|MOBFWQ6BR3MK7AUG|        4.5|4 GB|\n",
      "+--------------------+--------------------+-----+----------+-----+-------------------+-----------------+-----------------+----------------+-----------+----+\n",
      "\n"
     ]
    }
   ],
   "source": [
    "df.where(\"Mrp = 39900\").show()"
   ]
  },
  {
   "cell_type": "code",
   "execution_count": 109,
   "id": "146f0d93",
   "metadata": {},
   "outputs": [
    {
     "name": "stdout",
     "output_type": "stream",
     "text": [
      "+--------------------+--------------------+-----+----------+------+-------------------+-----------------+-----------------+----------------+-----------+----+\n",
      "|        Product Name|         Product URL|Brand|Sale Price|   Mrp|Discount Percentage|Number Of Ratings|Number Of Reviews|             Upc|Star Rating| Ram|\n",
      "+--------------------+--------------------+-----+----------+------+-------------------+-----------------+-----------------+----------------+-----------+----+\n",
      "|APPLE iPhone 8 Pl...|https://www.flipk...|Apple|     84900| 84900|                  0|             3431|              356|MOBEXRGVAC6TJT4F|        4.6|2 GB|\n",
      "|APPLE iPhone 8 Pl...|https://www.flipk...|Apple|     84900| 84900|                  0|             3431|              356|MOBEXRGVGETABXWZ|        4.6|2 GB|\n",
      "|APPLE iPhone 8 (S...|https://www.flipk...|Apple|     77000| 77000|                  0|            11202|              794|MOBEXRGVMZWUHCBA|        4.5|2 GB|\n",
      "|APPLE iPhone 8 (G...|https://www.flipk...|Apple|     77000| 77000|                  0|            11202|              794|MOBEXRGVPK7PFEJZ|        4.5|2 GB|\n",
      "|APPLE iPhone 8 (S...|https://www.flipk...|Apple|     77000| 77000|                  0|            11202|              794|MOBEXRGVZFZGZEWV|        4.5|2 GB|\n",
      "|APPLE iPhone XS M...|https://www.flipk...|Apple|     89900| 89900|                  0|             1454|              149|MOBF944E2XAHW8V5|        4.6|4 GB|\n",
      "|Apple iPhone XR (...|https://www.flipk...|Apple|     41999| 52900|                 20|            79512|             6796|MOBF9Z7ZHQC23PWQ|        4.6|4 GB|\n",
      "|Apple iPhone XR (...|https://www.flipk...|Apple|     41999| 52900|                 20|            79582|             6804|MOBF9Z7ZS6GF5UAP|        4.6|4 GB|\n",
      "|Apple iPhone XR (...|https://www.flipk...|Apple|     41999| 52900|                 20|            79512|             6796|MOBF9Z7ZYWNFGZUC|        4.6|3 GB|\n",
      "|Apple iPhone XR (...|https://www.flipk...|Apple|     41999| 52900|                 20|            79512|             6796|MOBF9Z7ZZY3HCDZZ|        4.6|4 GB|\n",
      "|APPLE iPhone 11 P...|https://www.flipk...|Apple|    131900|131900|                  0|             1078|              101|MOBFKCTS7HCHSPFH|        4.7|4 GB|\n",
      "|APPLE iPhone 11 P...|https://www.flipk...|Apple|    117100|117100|                  0|             1078|              101|MOBFKCTSAPAYNSGG|        4.7|4 GB|\n",
      "|APPLE iPhone 11 P...|https://www.flipk...|Apple|    131900|131900|                  0|             1078|              101|MOBFKCTSCAAKGQV7|        4.7|4 GB|\n",
      "|APPLE iPhone 11 P...|https://www.flipk...|Apple|    117100|117100|                  0|             1078|              101|MOBFKCTSKDMKCGQS|        4.7|4 GB|\n",
      "|APPLE iPhone 11 P...|https://www.flipk...|Apple|     74999|106600|                 29|             7088|              523|MOBFKCTSN3TG3RFJ|        4.6|4 GB|\n",
      "|APPLE iPhone 11 P...|https://www.flipk...|Apple|    117900|140300|                 15|             7088|              523|MOBFKCTSRTHRQTFT|        4.6|4 GB|\n",
      "|APPLE iPhone 11 P...|https://www.flipk...|Apple|    117100|117100|                  0|             1078|              101|MOBFKCTSRYPAQNYT|        4.7|4 GB|\n",
      "|APPLE iPhone 11 P...|https://www.flipk...|Apple|    117900|140300|                 15|             7088|              523|MOBFKCTSSJCWYGCC|        4.6|4 GB|\n",
      "|APPLE iPhone 11 P...|https://www.flipk...|Apple|     99900|121300|                 17|             7081|              522|MOBFKCTSWGYSAS9X|        4.6|4 GB|\n",
      "|Apple iPhone SE (...|https://www.flipk...|Apple|     44999| 54900|                 18|            95909|             8161|MOBFRFXHPZCHAPEH|        4.5|2 GB|\n",
      "+--------------------+--------------------+-----+----------+------+-------------------+-----------------+-----------------+----------------+-----------+----+\n",
      "only showing top 20 rows\n",
      "\n"
     ]
    }
   ],
   "source": [
    "df.where(\"Mrp >= 50000\").show()"
   ]
  },
  {
   "cell_type": "code",
   "execution_count": 110,
   "id": "759544f2",
   "metadata": {},
   "outputs": [],
   "source": [
    "df.createOrReplaceTempView(\"apple_data_table\")"
   ]
  },
  {
   "cell_type": "code",
   "execution_count": 111,
   "id": "98bc881e",
   "metadata": {},
   "outputs": [
    {
     "name": "stdout",
     "output_type": "stream",
     "text": [
      "+--------------------+--------------------+-----+----------+-----+-------------------+-----------------+-----------------+----------------+-----------+----+\n",
      "|        Product Name|         Product URL|Brand|Sale Price|  Mrp|Discount Percentage|Number Of Ratings|Number Of Reviews|             Upc|Star Rating| Ram|\n",
      "+--------------------+--------------------+-----+----------+-----+-------------------+-----------------+-----------------+----------------+-----------+----+\n",
      "|APPLE iPhone 8 Pl...|https://www.flipk...|Apple|     49900|49900|                  0|             3431|              356|MOBEXRGV7EHHTGUH|        4.6|2 GB|\n",
      "|APPLE iPhone 8 Pl...|https://www.flipk...|Apple|     84900|84900|                  0|             3431|              356|MOBEXRGVAC6TJT4F|        4.6|2 GB|\n",
      "|APPLE iPhone 8 Pl...|https://www.flipk...|Apple|     84900|84900|                  0|             3431|              356|MOBEXRGVGETABXWZ|        4.6|2 GB|\n",
      "|APPLE iPhone 8 (S...|https://www.flipk...|Apple|     77000|77000|                  0|            11202|              794|MOBEXRGVMZWUHCBA|        4.5|2 GB|\n",
      "|APPLE iPhone 8 (G...|https://www.flipk...|Apple|     77000|77000|                  0|            11202|              794|MOBEXRGVPK7PFEJZ|        4.5|2 GB|\n",
      "+--------------------+--------------------+-----+----------+-----+-------------------+-----------------+-----------------+----------------+-----------+----+\n",
      "only showing top 5 rows\n",
      "\n"
     ]
    }
   ],
   "source": [
    "spark.sql(\"SELECT * FROM apple_data_table\").show(5)"
   ]
  },
  {
   "cell_type": "code",
   "execution_count": 112,
   "id": "e441f0d3",
   "metadata": {},
   "outputs": [
    {
     "name": "stdout",
     "output_type": "stream",
     "text": [
      "+--------------------+-------+\n",
      "|        Product Name|sum_mrp|\n",
      "+--------------------+-------+\n",
      "|APPLE iPhone 12 P...| 129900|\n",
      "|APPLE iPhone 12 P...| 139900|\n",
      "|APPLE iPhone 12 P...| 129900|\n",
      "|APPLE iPhone 11 P...| 117100|\n",
      "|APPLE iPhone 12 P...| 139900|\n",
      "+--------------------+-------+\n",
      "only showing top 5 rows\n",
      "\n"
     ]
    }
   ],
   "source": [
    "spark.sql(\"\"\"SELECT `Product Name`,\n",
    "                    SUM(Mrp) as sum_mrp\n",
    "          FROM apple_data_table\n",
    "          GROUP BY `Product Name`\n",
    "          \"\"\").where(\"sum_mrp > 100000\").show(5)"
   ]
  },
  {
   "cell_type": "code",
   "execution_count": 113,
   "id": "511329d9",
   "metadata": {},
   "outputs": [
    {
     "name": "stdout",
     "output_type": "stream",
     "text": [
      "+--------------------+------+----------------+----------+\n",
      "|        Product Name|   Mrp|Discounted Price| New Price|\n",
      "+--------------------+------+----------------+----------+\n",
      "|APPLE iPhone 12 P...|149900|         14990.0|2.247001E9|\n",
      "|APPLE iPhone 12 P...|149900|         14990.0|2.247001E9|\n",
      "|APPLE iPhone 11 P...|140300|         14030.0|1.968409E9|\n",
      "|APPLE iPhone 11 P...|140300|         14030.0|1.968409E9|\n",
      "|APPLE iPhone 12 P...|139900|         13990.0|1.957201E9|\n",
      "|APPLE iPhone 12 P...|139900|         13990.0|1.957201E9|\n",
      "|APPLE iPhone 12 P...|139900|         13990.0|1.957201E9|\n",
      "|APPLE iPhone 12 P...|139900|         13990.0|1.957201E9|\n",
      "|APPLE iPhone 11 P...|131900|         13190.0|1.739761E9|\n",
      "|APPLE iPhone 11 P...|131900|         13190.0|1.739761E9|\n",
      "+--------------------+------+----------------+----------+\n",
      "only showing top 10 rows\n",
      "\n"
     ]
    }
   ],
   "source": [
    "df.withColumn(\"Discounted Price\", col(\"Mrp\") * 0.1).select(\"Product Name\", \"Mrp\", \"Discounted Price\") \\\n",
    ".withColumn(\"New Price\", col(\"Mrp\") * col(\"Discounted Price\")) \\\n",
    ".orderBy(col(\"New Price\").desc()) \\\n",
    ".show(10)"
   ]
  },
  {
   "cell_type": "code",
   "execution_count": 114,
   "id": "cfc4908a-00d6-45df-a060-261ecb61c792",
   "metadata": {},
   "outputs": [],
   "source": [
    "df = df.withColumn(\n",
    "    \"Model Name\", \n",
    "    concat_ws(\" \", split(\"Product Name\", \" \").getItem(1), split(\"Product Name\", \" \").getItem(2))\n",
    ")"
   ]
  },
  {
   "cell_type": "code",
   "execution_count": 115,
   "id": "60260649-476c-4399-a651-1d1e155c1699",
   "metadata": {},
   "outputs": [
    {
     "name": "stdout",
     "output_type": "stream",
     "text": [
      "+--------------------+--------------------+-----+----------+-----+-------------------+-----------------+-----------------+----------------+-----------+----+----------+\n",
      "|        Product Name|         Product URL|Brand|Sale Price|  Mrp|Discount Percentage|Number Of Ratings|Number Of Reviews|             Upc|Star Rating| Ram|Model Name|\n",
      "+--------------------+--------------------+-----+----------+-----+-------------------+-----------------+-----------------+----------------+-----------+----+----------+\n",
      "|APPLE iPhone 8 Pl...|https://www.flipk...|Apple|     49900|49900|                  0|             3431|              356|MOBEXRGV7EHHTGUH|        4.6|2 GB|  iPhone 8|\n",
      "|APPLE iPhone 8 Pl...|https://www.flipk...|Apple|     84900|84900|                  0|             3431|              356|MOBEXRGVAC6TJT4F|        4.6|2 GB|  iPhone 8|\n",
      "+--------------------+--------------------+-----+----------+-----+-------------------+-----------------+-----------------+----------------+-----------+----+----------+\n",
      "only showing top 2 rows\n",
      "\n"
     ]
    }
   ],
   "source": [
    "df.show(2)"
   ]
  },
  {
   "cell_type": "code",
   "execution_count": 116,
   "id": "a38f324c",
   "metadata": {},
   "outputs": [],
   "source": [
    "df.write.mode(\"overwrite\").partitionBy(\"Model Name\").save(\"file:///Users/shantanufuke/Courses/Apache-Spark/data/apple_data/output\")"
   ]
  },
  {
   "cell_type": "code",
   "execution_count": null,
   "id": "429954eb-298d-4071-9478-f31e6cc8702c",
   "metadata": {},
   "outputs": [],
   "source": []
  }
 ],
 "metadata": {
  "kernelspec": {
   "display_name": "Python 3 (ipykernel)",
   "language": "python",
   "name": "python3"
  },
  "language_info": {
   "codemirror_mode": {
    "name": "ipython",
    "version": 3
   },
   "file_extension": ".py",
   "mimetype": "text/x-python",
   "name": "python",
   "nbconvert_exporter": "python",
   "pygments_lexer": "ipython3",
   "version": "3.9.21"
  }
 },
 "nbformat": 4,
 "nbformat_minor": 5
}
